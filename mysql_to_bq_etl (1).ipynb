{
 "cells": [
  {
   "cell_type": "code",
   "execution_count": 1,
   "id": "17da2ae4",
   "metadata": {},
   "outputs": [
    {
     "name": "stdout",
     "output_type": "stream",
     "text": [
      "Collecting db-dtypes\n",
      "  Using cached db_dtypes-1.0.4-py2.py3-none-any.whl (14 kB)\n",
      "Requirement already satisfied: packaging>=17.0 in c:\\users\\harip\\anaconda3\\lib\\site-packages (from db-dtypes) (21.3)\n",
      "Requirement already satisfied: pyarrow<10.0dev,>=3.0.0 in c:\\users\\harip\\anaconda3\\lib\\site-packages (from db-dtypes) (9.0.0)\n",
      "Requirement already satisfied: pandas<2.0dev,>=0.24.2 in c:\\users\\harip\\anaconda3\\lib\\site-packages (from db-dtypes) (1.4.2)\n",
      "Requirement already satisfied: numpy<2.0dev,>=1.16.6 in c:\\users\\harip\\anaconda3\\lib\\site-packages (from db-dtypes) (1.21.5)\n",
      "Requirement already satisfied: pyparsing!=3.0.5,>=2.0.2 in c:\\users\\harip\\anaconda3\\lib\\site-packages (from packaging>=17.0->db-dtypes) (3.0.4)\n",
      "Requirement already satisfied: python-dateutil>=2.8.1 in c:\\users\\harip\\anaconda3\\lib\\site-packages (from pandas<2.0dev,>=0.24.2->db-dtypes) (2.8.2)\n",
      "Requirement already satisfied: pytz>=2020.1 in c:\\users\\harip\\anaconda3\\lib\\site-packages (from pandas<2.0dev,>=0.24.2->db-dtypes) (2021.3)\n",
      "Requirement already satisfied: six>=1.5 in c:\\users\\harip\\anaconda3\\lib\\site-packages (from python-dateutil>=2.8.1->pandas<2.0dev,>=0.24.2->db-dtypes) (1.16.0)\n",
      "Installing collected packages: db-dtypes\n",
      "Successfully installed db-dtypes-1.0.4\n"
     ]
    },
    {
     "name": "stderr",
     "output_type": "stream",
     "text": [
      "WARNING: Ignoring invalid distribution -rotobuf (c:\\users\\harip\\anaconda3\\lib\\site-packages)\n",
      "WARNING: Ignoring invalid distribution -rotobuf (c:\\users\\harip\\anaconda3\\lib\\site-packages)\n",
      "WARNING: Ignoring invalid distribution -rotobuf (c:\\users\\harip\\anaconda3\\lib\\site-packages)\n",
      "WARNING: Ignoring invalid distribution -rotobuf (c:\\users\\harip\\anaconda3\\lib\\site-packages)\n",
      "WARNING: Ignoring invalid distribution -rotobuf (c:\\users\\harip\\anaconda3\\lib\\site-packages)\n",
      "WARNING: Ignoring invalid distribution -rotobuf (c:\\users\\harip\\anaconda3\\lib\\site-packages)\n",
      "WARNING: Ignoring invalid distribution -rotobuf (c:\\users\\harip\\anaconda3\\lib\\site-packages)\n"
     ]
    }
   ],
   "source": [
    "!pip install db-dtypes\n",
    "\n"
   ]
  },
  {
   "cell_type": "code",
   "execution_count": 2,
   "id": "220359bb",
   "metadata": {},
   "outputs": [],
   "source": [
    "import pandas as pd\n",
    "import numpy as np\n",
    "import datetime\n",
    "from google.cloud import bigquery\n",
    "from google.oauth2 import service_account"
   ]
  },
  {
   "cell_type": "code",
   "execution_count": 3,
   "id": "2cdadb14",
   "metadata": {},
   "outputs": [],
   "source": [
    "import warnings\n",
    "warnings.filterwarnings(\"ignore\")"
   ]
  },
  {
   "cell_type": "code",
   "execution_count": 4,
   "id": "0a73fd4c",
   "metadata": {},
   "outputs": [],
   "source": [
    "import subprocess\n",
    "import sys\n",
    "\n",
    "def install(package):\n",
    "    subprocess.check_call([sys.executable, \"-m\", \"pip\", \"install\", package])"
   ]
  },
  {
   "cell_type": "code",
   "execution_count": 5,
   "id": "a3c3b9b7",
   "metadata": {},
   "outputs": [],
   "source": [
    "install(\"pymysql\")"
   ]
  },
  {
   "cell_type": "code",
   "execution_count": 6,
   "id": "90cc9906",
   "metadata": {},
   "outputs": [],
   "source": [
    "import pymysql\n",
    "\n",
    "# Connect to the database\n",
    "connection = pymysql.connect(host='34.139.219.125',\n",
    "                         user='root',\n",
    "                         password='hp1811',\n",
    "                         db='oltp')\n",
    "\n",
    "# create cursor\n",
    "cursor=connection.cursor()"
   ]
  },
  {
   "cell_type": "code",
   "execution_count": 7,
   "id": "667d4f4d",
   "metadata": {},
   "outputs": [],
   "source": [
    "credentials = service_account.Credentials.from_service_account_file('pax1-366517-7e41c87e2502.json')\n",
    "client = bigquery.Client(credentials=credentials)"
   ]
  },
  {
   "cell_type": "code",
   "execution_count": 8,
   "id": "0962b83d",
   "metadata": {},
   "outputs": [],
   "source": [
    "df_consumer_master=pd.read_sql(f'''select * from customer_master''',connection)\n",
    "df_product_master=pd.read_sql(f'''select * from product_master''',connection)\n",
    "df_order_details=pd.read_sql(f'''select * from order_details''',connection)\n",
    "df_order_items=pd.read_sql(f'''select * from order_items''',connection)"
   ]
  },
  {
   "cell_type": "code",
   "execution_count": 9,
   "id": "35913fe9",
   "metadata": {},
   "outputs": [
    {
     "data": {
      "text/html": [
       "<div>\n",
       "<style scoped>\n",
       "    .dataframe tbody tr th:only-of-type {\n",
       "        vertical-align: middle;\n",
       "    }\n",
       "\n",
       "    .dataframe tbody tr th {\n",
       "        vertical-align: top;\n",
       "    }\n",
       "\n",
       "    .dataframe thead th {\n",
       "        text-align: right;\n",
       "    }\n",
       "</style>\n",
       "<table border=\"1\" class=\"dataframe\">\n",
       "  <thead>\n",
       "    <tr style=\"text-align: right;\">\n",
       "      <th></th>\n",
       "      <th>orderid</th>\n",
       "      <th>productid</th>\n",
       "      <th>quantity</th>\n",
       "    </tr>\n",
       "  </thead>\n",
       "  <tbody>\n",
       "  </tbody>\n",
       "</table>\n",
       "</div>"
      ],
      "text/plain": [
       "Empty DataFrame\n",
       "Columns: [orderid, productid, quantity]\n",
       "Index: []"
      ]
     },
     "execution_count": 9,
     "metadata": {},
     "output_type": "execute_result"
    }
   ],
   "source": [
    "df_order_items.head()"
   ]
  },
  {
   "cell_type": "code",
   "execution_count": 10,
   "id": "d819cc1f",
   "metadata": {},
   "outputs": [],
   "source": [
    "def insert_dim_order(df_order_details):\n",
    "    g = df_order_details\n",
    "    x = g[[\"orderid\",\"order_status_update_timestamp\",\"order_status\"]]\n",
    "    dim_order = x.reset_index()\n",
    "    del dim_order[\"index\"]\n",
    "    return dim_order"
   ]
  },
  {
   "cell_type": "code",
   "execution_count": 11,
   "id": "b869f107",
   "metadata": {},
   "outputs": [],
   "source": [
    "def insert_dim_customer(df_consumer_master):\n",
    "    df_consumer_master[\"address_id\"] = list(range(1,1001))\n",
    "    dim_customer =df_consumer_master[[\"customerid\",\"name\",\"address_id\"]]\n",
    "    dim_customer[\"start_date\"]= (df_consumer_master['update_timestamp'].dt.date).astype('datetime64')\n",
    "    dim_customer[\"end_date\"] = np.nan\n",
    "    dim_customer[\"end_date\"]=pd.to_datetime(dim_customer[\"end_date\"])\n",
    "    return dim_customer"
   ]
  },
  {
   "cell_type": "code",
   "execution_count": 12,
   "id": "9bc61ab3",
   "metadata": {},
   "outputs": [],
   "source": [
    "def insert_dim_address(df_consumer_master):\n",
    "    df_consumer_master[\"address_id\"] = list(range(1,1001))\n",
    "    dim_address = df_consumer_master[[\"address_id\",\"address\",\"city\",\"state\",\"pincode\"]]\n",
    "    return dim_address"
   ]
  },
  {
   "cell_type": "code",
   "execution_count": 13,
   "id": "17ea2622",
   "metadata": {},
   "outputs": [],
   "source": [
    "def insert_dim_product(df_product_master):\n",
    "    dim_product = df_product_master\n",
    "    dim_product[\"start_date\"]=np.nan\n",
    "    dim_product[\"start_date\"]=pd.to_datetime(dim_product[\"start_date\"])\n",
    "    dim_product[\"end_date\"]=np.nan\n",
    "    dim_product[\"end_date\"]=pd.to_datetime(dim_product[\"end_date\"])\n",
    "    return dim_product"
   ]
  },
  {
   "cell_type": "code",
   "execution_count": 14,
   "id": "a6229e72",
   "metadata": {},
   "outputs": [],
   "source": [
    "def insert_f_order_details(df_order_details,df_order_items):\n",
    "    f_order_details = pd.merge(df_order_details.groupby(\"orderid\").tail(1), df_order_items, how='inner')[[\"orderid\",\"order_status_update_timestamp\",\"productid\",\"quantity\"]]\n",
    "    f_order_details.columns = [\"orderid\",\"order_delivery_timestamp\",\"productid\",\"quantity\"]\n",
    "    return f_order_details"
   ]
  },
  {
   "cell_type": "code",
   "execution_count": 15,
   "id": "bce31a1d",
   "metadata": {},
   "outputs": [],
   "source": [
    "def insert_fact_daily_orders(df_consumer_master,df_order_details,df_order_items):\n",
    "    x=df_order_details.groupby(\"orderid\").head(1)[[\"customerid\",\"orderid\",\"order_status_update_timestamp\"]].reset_index()\n",
    "    del x[\"index\"]\n",
    "    y=df_order_details.groupby(\"orderid\").tail(1)[\"order_status_update_timestamp\"].reset_index()\n",
    "    del y[\"index\"]     \n",
    "    fact_daily_orders = pd.concat([x,y],axis=1)\n",
    "    fact_daily_orders.columns = [\"customerid\",\"orderid\",\"order_received_timestamp\",\"order_delivery_timestamp\"]\n",
    "    l=[]\n",
    "    for i in fact_daily_orders[\"customerid\"]:\n",
    "             l.append(int(df_consumer_master.where(df_consumer_master[\"customerid\"]==i).dropna()[\"pincode\"]))\n",
    "            # l is pincode column\n",
    "    fact_daily_orders[\"pincode\"] = l\n",
    "        \n",
    "    \n",
    "    k=[]\n",
    "    m=[]\n",
    "    for i in df_order_items[\"productid\"]:\n",
    "        m=list(df_product_master.where(df_product_master[\"productid\"]==i)[\"rate\"].dropna() * df_order_items.iloc[i,2])\n",
    "        k.append(m[0])\n",
    "    df_order_items[\"Total\"]=k    \n",
    "    k = df_order_items.groupby('orderid')[\"Total\"].sum()\n",
    "    k1 = df_order_items.groupby('orderid')[\"quantity\"].sum()\n",
    "    k=k.tolist()\n",
    "    fact_daily_orders[\"order_amount\"]=k\n",
    "    fact_daily_orders[\"item_count\"]=list(k1)\n",
    "    fact_daily_orders[\"order_delivery_time_seconds\"] =fact_daily_orders[\"order_received_timestamp\"]-fact_daily_orders[\"order_delivery_timestamp\"] \n",
    "    return fact_daily_orders"
   ]
  },
  {
   "cell_type": "code",
   "execution_count": 16,
   "id": "b9c424e6",
   "metadata": {},
   "outputs": [],
   "source": [
    "dim_order = insert_dim_order(df_order_details)"
   ]
  },
  {
   "cell_type": "code",
   "execution_count": 17,
   "id": "3c5d3d56",
   "metadata": {},
   "outputs": [
    {
     "data": {
      "text/html": [
       "<div>\n",
       "<style scoped>\n",
       "    .dataframe tbody tr th:only-of-type {\n",
       "        vertical-align: middle;\n",
       "    }\n",
       "\n",
       "    .dataframe tbody tr th {\n",
       "        vertical-align: top;\n",
       "    }\n",
       "\n",
       "    .dataframe thead th {\n",
       "        text-align: right;\n",
       "    }\n",
       "</style>\n",
       "<table border=\"1\" class=\"dataframe\">\n",
       "  <thead>\n",
       "    <tr style=\"text-align: right;\">\n",
       "      <th></th>\n",
       "      <th>orderid</th>\n",
       "      <th>order_status_update_timestamp</th>\n",
       "      <th>order_status</th>\n",
       "    </tr>\n",
       "  </thead>\n",
       "  <tbody>\n",
       "  </tbody>\n",
       "</table>\n",
       "</div>"
      ],
      "text/plain": [
       "Empty DataFrame\n",
       "Columns: [orderid, order_status_update_timestamp, order_status]\n",
       "Index: []"
      ]
     },
     "execution_count": 17,
     "metadata": {},
     "output_type": "execute_result"
    }
   ],
   "source": [
    "dim_order.head()"
   ]
  },
  {
   "cell_type": "code",
   "execution_count": 18,
   "id": "b82002f7",
   "metadata": {},
   "outputs": [],
   "source": [
    "dim_customer = insert_dim_customer(df_consumer_master)"
   ]
  },
  {
   "cell_type": "code",
   "execution_count": 19,
   "id": "463acd01",
   "metadata": {},
   "outputs": [
    {
     "data": {
      "text/html": [
       "<div>\n",
       "<style scoped>\n",
       "    .dataframe tbody tr th:only-of-type {\n",
       "        vertical-align: middle;\n",
       "    }\n",
       "\n",
       "    .dataframe tbody tr th {\n",
       "        vertical-align: top;\n",
       "    }\n",
       "\n",
       "    .dataframe thead th {\n",
       "        text-align: right;\n",
       "    }\n",
       "</style>\n",
       "<table border=\"1\" class=\"dataframe\">\n",
       "  <thead>\n",
       "    <tr style=\"text-align: right;\">\n",
       "      <th></th>\n",
       "      <th>customerid</th>\n",
       "      <th>name</th>\n",
       "      <th>address_id</th>\n",
       "      <th>start_date</th>\n",
       "      <th>end_date</th>\n",
       "    </tr>\n",
       "  </thead>\n",
       "  <tbody>\n",
       "    <tr>\n",
       "      <th>0</th>\n",
       "      <td>1</td>\n",
       "      <td>Aaryahi Khurana</td>\n",
       "      <td>1</td>\n",
       "      <td>2022-08-23</td>\n",
       "      <td>NaT</td>\n",
       "    </tr>\n",
       "    <tr>\n",
       "      <th>1</th>\n",
       "      <td>2</td>\n",
       "      <td>Vaibhav Kade</td>\n",
       "      <td>2</td>\n",
       "      <td>2022-04-28</td>\n",
       "      <td>NaT</td>\n",
       "    </tr>\n",
       "    <tr>\n",
       "      <th>2</th>\n",
       "      <td>3</td>\n",
       "      <td>Trisha Yadav</td>\n",
       "      <td>3</td>\n",
       "      <td>2022-01-13</td>\n",
       "      <td>NaT</td>\n",
       "    </tr>\n",
       "    <tr>\n",
       "      <th>3</th>\n",
       "      <td>4</td>\n",
       "      <td>Romil Taneja</td>\n",
       "      <td>4</td>\n",
       "      <td>2022-06-23</td>\n",
       "      <td>NaT</td>\n",
       "    </tr>\n",
       "    <tr>\n",
       "      <th>4</th>\n",
       "      <td>5</td>\n",
       "      <td>Pihu Devan</td>\n",
       "      <td>5</td>\n",
       "      <td>2022-07-31</td>\n",
       "      <td>NaT</td>\n",
       "    </tr>\n",
       "  </tbody>\n",
       "</table>\n",
       "</div>"
      ],
      "text/plain": [
       "   customerid             name  address_id start_date end_date\n",
       "0           1  Aaryahi Khurana           1 2022-08-23      NaT\n",
       "1           2     Vaibhav Kade           2 2022-04-28      NaT\n",
       "2           3     Trisha Yadav           3 2022-01-13      NaT\n",
       "3           4     Romil Taneja           4 2022-06-23      NaT\n",
       "4           5       Pihu Devan           5 2022-07-31      NaT"
      ]
     },
     "execution_count": 19,
     "metadata": {},
     "output_type": "execute_result"
    }
   ],
   "source": [
    "dim_customer.head()"
   ]
  },
  {
   "cell_type": "code",
   "execution_count": 20,
   "id": "577933de",
   "metadata": {},
   "outputs": [],
   "source": [
    "dim_address = insert_dim_address(df_consumer_master)"
   ]
  },
  {
   "cell_type": "code",
   "execution_count": 21,
   "id": "d9f94bea",
   "metadata": {},
   "outputs": [],
   "source": [
    "dim_product=insert_dim_product(df_product_master)"
   ]
  },
  {
   "cell_type": "code",
   "execution_count": 22,
   "id": "f5f79ffc",
   "metadata": {},
   "outputs": [],
   "source": [
    "f_order_details = insert_f_order_details(df_order_details,df_order_items)\n"
   ]
  },
  {
   "cell_type": "code",
   "execution_count": 23,
   "id": "8b733aed",
   "metadata": {},
   "outputs": [],
   "source": [
    "f_order_details = insert_f_order_details(df_order_details,df_order_items)\n"
   ]
  },
  {
   "cell_type": "code",
   "execution_count": 24,
   "id": "fe608315",
   "metadata": {},
   "outputs": [],
   "source": [
    "fact_daily_orders = insert_fact_daily_orders(df_consumer_master,df_order_details,df_order_items)"
   ]
  },
  {
   "cell_type": "code",
   "execution_count": 25,
   "id": "4509ee81",
   "metadata": {},
   "outputs": [
    {
     "data": {
      "text/html": [
       "<div>\n",
       "<style scoped>\n",
       "    .dataframe tbody tr th:only-of-type {\n",
       "        vertical-align: middle;\n",
       "    }\n",
       "\n",
       "    .dataframe tbody tr th {\n",
       "        vertical-align: top;\n",
       "    }\n",
       "\n",
       "    .dataframe thead th {\n",
       "        text-align: right;\n",
       "    }\n",
       "</style>\n",
       "<table border=\"1\" class=\"dataframe\">\n",
       "  <thead>\n",
       "    <tr style=\"text-align: right;\">\n",
       "      <th></th>\n",
       "      <th>customerid</th>\n",
       "      <th>orderid</th>\n",
       "      <th>order_received_timestamp</th>\n",
       "      <th>order_delivery_timestamp</th>\n",
       "      <th>pincode</th>\n",
       "      <th>order_amount</th>\n",
       "      <th>item_count</th>\n",
       "      <th>order_delivery_time_seconds</th>\n",
       "    </tr>\n",
       "  </thead>\n",
       "  <tbody>\n",
       "  </tbody>\n",
       "</table>\n",
       "</div>"
      ],
      "text/plain": [
       "Empty DataFrame\n",
       "Columns: [customerid, orderid, order_received_timestamp, order_delivery_timestamp, pincode, order_amount, item_count, order_delivery_time_seconds]\n",
       "Index: []"
      ]
     },
     "execution_count": 25,
     "metadata": {},
     "output_type": "execute_result"
    }
   ],
   "source": [
    "fact_daily_orders.head()"
   ]
  },
  {
   "cell_type": "code",
   "execution_count": 26,
   "id": "1ac3d7df",
   "metadata": {},
   "outputs": [],
   "source": [
    "credentials = service_account.Credentials.from_service_account_file('pax1-366517-7e41c87e2502.json')"
   ]
  },
  {
   "cell_type": "code",
   "execution_count": 27,
   "id": "d7709b07",
   "metadata": {},
   "outputs": [],
   "source": [
    "client = bigquery.Client(credentials=credentials)"
   ]
  },
  {
   "cell_type": "code",
   "execution_count": 28,
   "id": "08cec12c",
   "metadata": {},
   "outputs": [
    {
     "data": {
      "text/plain": [
       "LoadJob<project=pax1-366517, location=US, id=646dabdc-f329-4447-bb97-94dc84bb0b33>"
      ]
     },
     "execution_count": 28,
     "metadata": {},
     "output_type": "execute_result"
    }
   ],
   "source": [
    "tableRef1 = client.dataset(\"star_schema\").table(\"dim_order\")\n",
    "client.load_table_from_dataframe(dim_order,tableRef1)"
   ]
  },
  {
   "cell_type": "code",
   "execution_count": 29,
   "id": "9cdfbc6f",
   "metadata": {},
   "outputs": [
    {
     "data": {
      "text/plain": [
       "LoadJob<project=pax1-366517, location=US, id=17c1edac-d666-4176-9538-70683b849319>"
      ]
     },
     "execution_count": 29,
     "metadata": {},
     "output_type": "execute_result"
    }
   ],
   "source": [
    "tableRef2 = client.dataset(\"star_schema\").table(\"dim_customer\")\n",
    "client.load_table_from_dataframe(dim_customer,tableRef2)"
   ]
  },
  {
   "cell_type": "code",
   "execution_count": 30,
   "id": "c010df63",
   "metadata": {},
   "outputs": [
    {
     "data": {
      "text/plain": [
       "LoadJob<project=pax1-366517, location=US, id=1bf9c55b-948f-4388-b511-b03ee9c4b2df>"
      ]
     },
     "execution_count": 30,
     "metadata": {},
     "output_type": "execute_result"
    }
   ],
   "source": [
    "tableRef3 = client.dataset(\"star_schema\").table(\"dim_address\")\n",
    "client.load_table_from_dataframe(dim_address,tableRef3)"
   ]
  },
  {
   "cell_type": "code",
   "execution_count": 31,
   "id": "61f8b0e0",
   "metadata": {},
   "outputs": [
    {
     "data": {
      "text/plain": [
       "LoadJob<project=pax1-366517, location=US, id=714b2357-a15a-4c2a-b18b-c1e48c41991b>"
      ]
     },
     "execution_count": 31,
     "metadata": {},
     "output_type": "execute_result"
    }
   ],
   "source": [
    "tableRef4 = client.dataset(\"star_schema\").table(\"dim_product\")\n",
    "client.load_table_from_dataframe(dim_product,tableRef4)"
   ]
  },
  {
   "cell_type": "code",
   "execution_count": 32,
   "id": "56860796",
   "metadata": {},
   "outputs": [
    {
     "data": {
      "text/plain": [
       "LoadJob<project=pax1-366517, location=US, id=dc03145f-313b-4be3-92d3-06e9d069b5cf>"
      ]
     },
     "execution_count": 32,
     "metadata": {},
     "output_type": "execute_result"
    }
   ],
   "source": [
    "tableRef5 = client.dataset(\"star_schema\").table(\"f_order_details\")\n",
    "client.load_table_from_dataframe(f_order_details,tableRef5)"
   ]
  },
  {
   "cell_type": "code",
   "execution_count": 33,
   "id": "4585eef2",
   "metadata": {},
   "outputs": [
    {
     "data": {
      "text/plain": [
       "LoadJob<project=pax1-366517, location=US, id=1878d482-6ffd-4562-9978-e457e563b353>"
      ]
     },
     "execution_count": 33,
     "metadata": {},
     "output_type": "execute_result"
    }
   ],
   "source": [
    "tableRef6 = client.dataset(\"star_schema\").table(\"fact_daily_orders\")\n",
    "client.load_table_from_dataframe(fact_daily_orders,tableRef6)"
   ]
  },
  {
   "cell_type": "code",
   "execution_count": null,
   "id": "3311b95d",
   "metadata": {},
   "outputs": [],
   "source": []
  }
 ],
 "metadata": {
  "kernelspec": {
   "display_name": "Python 3 (ipykernel)",
   "language": "python",
   "name": "python3"
  },
  "language_info": {
   "codemirror_mode": {
    "name": "ipython",
    "version": 3
   },
   "file_extension": ".py",
   "mimetype": "text/x-python",
   "name": "python",
   "nbconvert_exporter": "python",
   "pygments_lexer": "ipython3",
   "version": "3.9.12"
  }
 },
 "nbformat": 4,
 "nbformat_minor": 5
}
